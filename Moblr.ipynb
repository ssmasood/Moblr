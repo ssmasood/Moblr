{
 "cells": [
  {
   "cell_type": "code",
   "execution_count": 1,
   "metadata": {},
   "outputs": [],
   "source": [
    "from matplotlib import pyplot as plt\n",
    "import numpy as np \n",
    "import cv2\n",
    "\n"
   ]
  },
  {
   "cell_type": "code",
   "execution_count": null,
   "metadata": {},
   "outputs": [],
   "source": [
    "def readVideo(name):\n",
    "    #Reads every \n",
    "    vidcap = cv2.VideoCapture(name)\n",
    "    success,image = vidcap.read()\n",
    "    count = 0\n",
    "    success = True\n",
    "    while success:\n",
    "      cv2.imwrite(\"frame%d.jpg\" % count, image)     # save frame as JPEG file      \n",
    "      success,image = vidcap.read()\n",
    "      print('Read a new frame: ', success)\n",
    "      count += 1"
   ]
  },
  {
   "cell_type": "code",
   "execution_count": 2,
   "metadata": {},
   "outputs": [],
   "source": [
    "def transformImage(frameFrom, frameTo):\n",
    "    ################\n",
    "    #  Assuming Images labeled frame[num].jpg\n",
    "    #  Input: frameFrom, frameTo(exclusive): range of frames to be read, we are recording 30 fps so if we want 1 value every 30 seconds, \n",
    "    #  We take 30 frames to calculate one value, we can change as needed\n",
    "    #  \n",
    "    #  Output: Array of transformed frames, the row that has the most white line (most lane mark)\n",
    "    ################\n",
    "    numlines = 1 \n",
    "    numframes = frameTo - frameFrom\n",
    "    img = np.array(numframes*[np.zeros((640,1280))])\n",
    "    rows = np.array(numframes*[np.zeros(numlines)])\n",
    "    rows.fill(np.nan)\n",
    "    count = 0\n",
    "    threshold = 220 #change this according to setting, night/day 220 is for day, works on example video\n",
    "    for i in range(frameFrom,frameTo):\n",
    "        tempimg = cv2.imread(\"frame%d.jpg\" % i, 0)\n",
    "        tempimg = cv2.GaussianBlur(tempimg,(5,5),0)\n",
    "        ret,th = cv2.threshold(tempimg,threshold,255,0)\n",
    "        row = np.mean(th[0:640,0:1280],axis=1).argsort()[-numlines:][::-1]\n",
    "        for topindex in row: #the mean of the images\n",
    "            if np.mean(th[topindex,:]) >= 2:\n",
    "                th[topindex,:] = np.array(1280*[255])\n",
    "                rows[count] = row\n",
    "        img[count] = th[0:640,0:1280]\n",
    "        count += 1\n",
    "    return img, np.nanmean(rows)\n"
   ]
  },
  {
   "cell_type": "code",
   "execution_count": 5,
   "metadata": {},
   "outputs": [],
   "source": [
    "def showImage(img):\n",
    "    cv2.imshow(\"Image\", img)\n",
    "    cv2.waitKey(0)\n",
    "    cv2.destroyAllWindows()"
   ]
  },
  {
   "cell_type": "code",
   "execution_count": 3,
   "metadata": {},
   "outputs": [],
   "source": [
    "def writeImage(images):\n",
    "    count = 0\n",
    "    for i in images:\n",
    "        cv2.imwrite(\"TransformedFrame%d.jpg\" % count, i)\n",
    "        count += 1\n",
    "        \n"
   ]
  },
  {
   "cell_type": "code",
   "execution_count": 9,
   "metadata": {},
   "outputs": [],
   "source": [
    "### EXAMPLE ###\n",
    "\n",
    "#readVideo(video)\n",
    "images, line = transformImage(0,31)\n",
    "#line is the average value of lane mark, we will measure the distance from line to bottom of the image for the graph\n",
    "for i in range(31):\n",
    "    showImage(images[i])"
   ]
  },
  {
   "cell_type": "code",
   "execution_count": 69,
   "metadata": {},
   "outputs": [],
   "source": [
    "######## below is random stuff I experimented with ##########\n",
    "\n",
    "import cv2\n",
    "\n",
    "\n",
    "# this function is needed for the createTrackbar step downstream\n",
    "def nothing(x):\n",
    "    pass\n",
    "\n",
    "# read the experimental image\n",
    "img = cv2.imread('frame0.jpg',0)\n",
    "#img2 = cv2.imread('frame1.jpg',0)\n",
    "#img = np.concatenate((img1, img2), axis=1)\n",
    "\n",
    "# create trackbar for canny edge detection threshold changes\n",
    "cv2.namedWindow('canny')\n",
    "\n",
    "# add ON/OFF switch to \"canny\"\n",
    "switch = '0 : OFF \\n1 : ON'\n",
    "cv2.createTrackbar(switch, 'canny', 0, 1, nothing)\n",
    "\n",
    "# add lower and upper threshold slidebars to \"canny\"\n",
    "cv2.createTrackbar('lower', 'canny', 0, 255, nothing)\n",
    "cv2.createTrackbar('upper', 'canny', 0, 255, nothing)\n",
    "\n",
    "# Infinite loop until we hit the escape key on keyboard\n",
    "while(1):\n",
    "\n",
    "    # get current positions of four trackbars\n",
    "    lower = cv2.getTrackbarPos('lower', 'canny')\n",
    "    upper = cv2.getTrackbarPos('upper', 'canny')\n",
    "    s = cv2.getTrackbarPos(switch, 'canny')\n",
    "\n",
    "    if s == 0:\n",
    "        edges = img\n",
    "    else:\n",
    "        edges = cv2.Canny(img, lower, upper)\n",
    "\n",
    "    # display images\n",
    "    cv2.imshow('original', img)\n",
    "    cv2.imshow('canny', edges)\n",
    "    k = cv2.waitKey(1) & 0xFF\n",
    "    if k == 27:   # hit escape to quit\n",
    "        break\n",
    "\n",
    "cv2.destroyAllWindows()"
   ]
  },
  {
   "cell_type": "code",
   "execution_count": 78,
   "metadata": {},
   "outputs": [],
   "source": []
  },
  {
   "cell_type": "code",
   "execution_count": 90,
   "metadata": {},
   "outputs": [],
   "source": [
    "img = cv2.imread('frame0.jpg',0)  #pass 0 to convert into gray level\n",
    "ret,th = cv2.threshold(img,220,255,cv2.THRESH_TOZERO)\n",
    "cv2.imshow('original',img)\n",
    "cv2.imshow('Adaptive threshold',th)\n",
    "cv2.waitKey(0)\n",
    "cv2.destroyAllWindows()"
   ]
  },
  {
   "cell_type": "code",
   "execution_count": 98,
   "metadata": {},
   "outputs": [],
   "source": [
    "img = cv2.imread('frame485.jpg',0)  #pass 0 to convert into gray level\n",
    "ret,th = cv2.threshold(img,220,255,cv2.THRESH_TOZERO)\n",
    "cv2.imshow('original',img[0:640,0:1280])\n",
    "cv2.imshow('Adaptive threshold',th[0:640,0:1280]) \n",
    "cv2.waitKey(0)\n",
    "cv2.destroyAllWindows()"
   ]
  },
  {
   "cell_type": "code",
   "execution_count": 67,
   "metadata": {},
   "outputs": [],
   "source": [
    "import cv2\n",
    "img = cv2.imread('frame0.jpg',0)  #pass 0 to convert into gray level\n",
    "#img2 = cv2.equalizeHist(img)\n",
    "img = cv2.GaussianBlur(img,(5,5),0)"
   ]
  },
  {
   "cell_type": "code",
   "execution_count": null,
   "metadata": {},
   "outputs": [],
   "source": [
    "img[np.argmax(np.mean(img,axis=1)),:] = img[np.argmax(np.mean(img,axis=1)),:]*255"
   ]
  },
  {
   "cell_type": "code",
   "execution_count": 16,
   "metadata": {},
   "outputs": [
    {
     "data": {
      "text/plain": [
       "array([[ 14,  14,  14, ..., 194, 193, 193],\n",
       "       [ 12,  12,  12, ..., 176, 175, 175],\n",
       "       [  9,   9,   9, ..., 145, 146, 145],\n",
       "       ...,\n",
       "       [105, 105, 106, ...,  84,  83,  83],\n",
       "       [105, 105, 106, ...,  82,  82,  82],\n",
       "       [105, 105, 106, ...,  81,  82,  82]], dtype=uint8)"
      ]
     },
     "execution_count": 16,
     "metadata": {},
     "output_type": "execute_result"
    }
   ],
   "source": [
    "crop_img = img[0:640, 0:1280]\n",
    "cv2.imshow(\"cropped\", crop_img)\n",
    "cv2.waitKey(0)\n",
    "cv2.destroyAllWindows()"
   ]
  },
  {
   "cell_type": "code",
   "execution_count": 3,
   "metadata": {},
   "outputs": [],
   "source": [
    "crop_img = img[8][0:640, 0:1280]\n",
    "cv2.imshow(\"cropped\", crop_img)\n",
    "cv2.waitKey(0)\n",
    "cv2.destroyAllWindows()"
   ]
  },
  {
   "cell_type": "code",
   "execution_count": 110,
   "metadata": {},
   "outputs": [
    {
     "data": {
      "text/plain": [
       "(720, 1280)"
      ]
     },
     "execution_count": 110,
     "metadata": {},
     "output_type": "execute_result"
    }
   ],
   "source": [
    "img = np.zeros((720,1280), dtype=\"uint8\")\n",
    "img.shape"
   ]
  },
  {
   "cell_type": "code",
   "execution_count": 98,
   "metadata": {},
   "outputs": [],
   "source": [
    "import cv2\n",
    "timg = cv2.imread('frame309.jpg',0)  #pass 0 to convert into gray level\n",
    "#timg = cv2.equalizeHist(timg)\n",
    "timg = cv2.GaussianBlur(timg,(5,5),0)\n",
    "ret,th = cv2.threshold(timg,200,255,0)\n",
    "crop_img = th[0:640, 0:1280]\n",
    "cv2.imshow(\"cropped\", crop_img)\n",
    "cv2.waitKey(0)\n",
    "cv2.destroyAllWindows()"
   ]
  }
 ],
 "metadata": {
  "kernelspec": {
   "display_name": "Python 3",
   "language": "python",
   "name": "python3"
  },
  "language_info": {
   "codemirror_mode": {
    "name": "ipython",
    "version": 3
   },
   "file_extension": ".py",
   "mimetype": "text/x-python",
   "name": "python",
   "nbconvert_exporter": "python",
   "pygments_lexer": "ipython3",
   "version": "3.5.5"
  }
 },
 "nbformat": 4,
 "nbformat_minor": 2
}
